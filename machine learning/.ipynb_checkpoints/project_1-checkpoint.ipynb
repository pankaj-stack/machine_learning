{
 "cells": [
  {
   "cell_type": "code",
   "execution_count": 1,
   "metadata": {},
   "outputs": [],
   "source": [
    "from tkinter import *\n",
    "win_1=Tk()\n",
    "def new_window():\n",
    "    win_2=Tk()\n",
    "    win_2.config(bg='red')\n",
    "    win_2.mainloop()\n",
    "label=Label(win_1,text='Sentiment Analysis',anchor=CENTER).grid(row=0,columnspan=4)\n",
    "    \n",
    "btn1=Button(win_1,width=20,height=5,text='Spam Detection',command=new_window).grid(row=1,column=0,pady=10)\n",
    "btn2=Button(win_1,width=20,height=5,text='Review Analysis',command=new_window).grid(row=2,column=0,pady=10)\n",
    "btn3=Button(win_1,width=20,height=5,text='tweet Analysis',command=new_window).grid(row=3,column=0,pady=10)\n",
    "btn4=Button(win_1,width=20,height=5,text='News Analysis',command=new_window).grid(row=4,column=0,pady=10)\n",
    "\n",
    "win_1.geometry(f'{win_1.winfo_screenwidth()}x{win_1.winfo_screenheight()}')\n",
    "win_1.config(bg='yellow')\n",
    "win_1.mainloop()"
   ]
  },
  {
   "cell_type": "code",
   "execution_count": 2,
   "metadata": {},
   "outputs": [
    {
     "name": "stdout",
     "output_type": "stream",
     "text": [
      "hi hi hi hi hi hi hi hi hi hi hi hi hi hi hi hi hi hi hi hi hi hi hi hi hi hi hi hi hi hi hi hi hi hi hi hi hi hi hi hi hi hi hi "
     ]
    }
   ],
   "source": [
    "for i in range(43):\n",
    "    print('hi',end=' ')"
   ]
  },
  {
   "cell_type": "code",
   "execution_count": null,
   "metadata": {},
   "outputs": [],
   "source": []
  }
 ],
 "metadata": {
  "kernelspec": {
   "display_name": "Python 3",
   "language": "python",
   "name": "python3"
  },
  "language_info": {
   "codemirror_mode": {
    "name": "ipython",
    "version": 3
   },
   "file_extension": ".py",
   "mimetype": "text/x-python",
   "name": "python",
   "nbconvert_exporter": "python",
   "pygments_lexer": "ipython3",
   "version": "3.8.3"
  }
 },
 "nbformat": 4,
 "nbformat_minor": 2
}
