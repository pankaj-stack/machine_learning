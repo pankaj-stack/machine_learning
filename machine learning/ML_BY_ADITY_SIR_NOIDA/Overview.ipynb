{
 "cells": [
  {
   "cell_type": "raw",
   "id": "90f586f0",
   "metadata": {},
   "source": [
    "    Artificial Inteligenc(Experience) AI:\n",
    "        >Any technique which enables machines to mimic human behaviour \n",
    "        >Generally we have 3-techniques to implement AI \n",
    "            >By writing multiple if-else \n",
    "            >By using machine learning \n",
    "            >Deep learning \n",
    "    AI = machine learning + deep learning \n"
   ]
  },
  {
   "cell_type": "raw",
   "id": "bc601bf7",
   "metadata": {},
   "source": [
    "    Traditional Programming                           Machine Learning Programming\n",
    "    --------------------------------------------------------------------------------\n",
    "    input (2)                                           Experience         Input (3)\n",
    "      |                                                    |  (1)\n",
    "      |                                                    |\n",
    "     Rule(program) (1)                                  ALGORITHM(program) \n",
    "      |                                                    |  (2)\n",
    "      |                                                    |\n",
    "     Output       (3)                                   Generate Rule  \n",
    "                                                           |  (4)\n",
    "                                                           |\n",
    "                                                        Output(prediction)\n",
    "                                                       "
   ]
  },
  {
   "cell_type": "raw",
   "id": "6f2c2483",
   "metadata": {},
   "source": [
    "Machine Learning:\n",
    "---------------- \n",
    "    >It is a technique to make prediction by learning rule form experiences. \n",
    "    \n",
    "    >It is a subset of AI that enables the machine to  predict a solution without being explicitly\n",
    "        programmed. \n",
    "        \n",
    "When to use ML to solve problem:\n",
    "------------------------------- \n",
    "    >spam detection\n",
    "    >review analysis \n",
    "    >face detection\n",
    "    >mood detection\n",
    "    >gender detection \n",
    "    >attendence system using facial recognition\n",
    "    >age prediction \n",
    "    >chat bot \n",
    "    >recommendation system \n",
    "    >number plate recognition\n",
    "    >traffic system \n",
    "    >attendence system using fingure print \n",
    "    >etc ...\n",
    "    \n",
    "When not use ML to sove the problem:\n",
    "------------------------------------\n",
    "    >addition of two nos. \n",
    "    >simple interest \n",
    "    >login\n",
    "    >registeration\n",
    "    >money transfer\n",
    "    >ticket booking \n",
    "    >inventary management\n",
    "    >billing automation \n",
    "    >library management \n",
    "    >virus \n",
    "    >antivirus \n",
    "    >driver \n",
    "    >etc .. \n",
    "    "
   ]
  },
  {
   "cell_type": "raw",
   "id": "ed4f2dad",
   "metadata": {},
   "source": []
  },
  {
   "cell_type": "raw",
   "id": "8416bdc0",
   "metadata": {},
   "source": [
    "Requirements to learn ML:\n",
    "------------------------- \n",
    ">A programming lanaguage (like python) \n",
    ">Basic mathematics(regression, distance function, probability, matrix operatin, etc...) \n",
    ">Language specific tool(jupyter) \n",
    ">Language specific framework(library) \n",
    "    >sklearn library /Scikit-learn project by google (In scikit-learn on the official site it is shown that it is useful in classification, Regression, clustering problems) \n",
    "    >mlpy\n",
    "    >orange \n",
    "    >etc ... \n",
    "By default sklearn is installed in anaconda  \n"
   ]
  },
  {
   "cell_type": "code",
   "execution_count": 7,
   "id": "4c5d3128",
   "metadata": {},
   "outputs": [],
   "source": [
    "# !pip3 install -U scikit-learn scipy matplotlib"
   ]
  },
  {
   "cell_type": "code",
   "execution_count": 8,
   "id": "e808b0e9",
   "metadata": {},
   "outputs": [],
   "source": [
    "import sklearn"
   ]
  },
  {
   "cell_type": "code",
   "execution_count": 9,
   "id": "2aa9e99d",
   "metadata": {},
   "outputs": [
    {
     "data": {
      "text/plain": [
       "'1.1.3'"
      ]
     },
     "execution_count": 9,
     "metadata": {},
     "output_type": "execute_result"
    }
   ],
   "source": [
    "sklearn.__version__"
   ]
  },
  {
   "cell_type": "raw",
   "id": "304a1005",
   "metadata": {},
   "source": [
    "Types of ML:\n",
    "----------- \n",
    "    >Supervise ML\n",
    "        >classification\n",
    "        >regression \n",
    "    >Unsuperwise ML\n",
    "        >clustering(Grouping unlabeled examples is called clustering.)\n",
    "    >Reinforcement ML \n",
    "    "
   ]
  },
  {
   "cell_type": "raw",
   "id": "a333f2af",
   "metadata": {},
   "source": [
    "Terminoloy used in ML:\n",
    "---------------------- \n",
    "Exp     projects     Sal\n",
    "------------------------\n",
    "1          5          10k\n",
    "2          6          15k\n",
    "3          18         18k\n",
    "4          20         20k \n",
    "\n",
    ">dataset:\n",
    "        >existing input/output values (are known as experience) \n",
    "        >we need structured dataset(excel/csv/html/database etc ...) \n",
    "        >unstructured data first we need to convert it into structure format \n",
    "        \n",
    ">features/attributes/dimentions\n",
    "        >these are the input column names in dataset \n",
    "        \n",
    ">target/label/class\n",
    "    >it is output column name"
   ]
  },
  {
   "attachments": {
    "terminology_in_machne_learning.jpeg": {
     "image/jpeg": "[encoded data removed]"
    }
   },
   "cell_type": "markdown",
   "id": "87cb7c18",
   "metadata": {},
   "source": [
    "![terminology_in_machne_learning.jpeg](attachment:terminology_in_machne_learning.jpeg)"
   ]
  },
  {
   "cell_type": "code",
   "execution_count": 10,
   "id": "8cba9cf3",
   "metadata": {},
   "outputs": [
    {
     "data": {
      "text/html": [
       "<div>\n",
       "<style scoped>\n",
       "    .dataframe tbody tr th:only-of-type {\n",
       "        vertical-align: middle;\n",
       "    }\n",
       "\n",
       "    .dataframe tbody tr th {\n",
       "        vertical-align: top;\n",
       "    }\n",
       "\n",
       "    .dataframe thead th {\n",
       "        text-align: right;\n",
       "    }\n",
       "</style>\n",
       "<table border=\"1\" class=\"dataframe\">\n",
       "  <thead>\n",
       "    <tr style=\"text-align: right;\">\n",
       "      <th></th>\n",
       "      <th>diameter</th>\n",
       "      <th>weight</th>\n",
       "      <th>FruitName</th>\n",
       "    </tr>\n",
       "  </thead>\n",
       "  <tbody>\n",
       "    <tr>\n",
       "      <th>0</th>\n",
       "      <td>3.0</td>\n",
       "      <td>30</td>\n",
       "      <td>Banana</td>\n",
       "    </tr>\n",
       "    <tr>\n",
       "      <th>1</th>\n",
       "      <td>6.0</td>\n",
       "      <td>100</td>\n",
       "      <td>Apple</td>\n",
       "    </tr>\n",
       "    <tr>\n",
       "      <th>2</th>\n",
       "      <td>6.1</td>\n",
       "      <td>95</td>\n",
       "      <td>Apple</td>\n",
       "    </tr>\n",
       "    <tr>\n",
       "      <th>3</th>\n",
       "      <td>3.2</td>\n",
       "      <td>35</td>\n",
       "      <td>Banana</td>\n",
       "    </tr>\n",
       "    <tr>\n",
       "      <th>4</th>\n",
       "      <td>5.5</td>\n",
       "      <td>80</td>\n",
       "      <td>Apple</td>\n",
       "    </tr>\n",
       "    <tr>\n",
       "      <th>5</th>\n",
       "      <td>7.1</td>\n",
       "      <td>120</td>\n",
       "      <td>Banana</td>\n",
       "    </tr>\n",
       "    <tr>\n",
       "      <th>6</th>\n",
       "      <td>2.5</td>\n",
       "      <td>60</td>\n",
       "      <td>Banana</td>\n",
       "    </tr>\n",
       "    <tr>\n",
       "      <th>7</th>\n",
       "      <td>2.3</td>\n",
       "      <td>100</td>\n",
       "      <td>Banana</td>\n",
       "    </tr>\n",
       "    <tr>\n",
       "      <th>8</th>\n",
       "      <td>4.8</td>\n",
       "      <td>70</td>\n",
       "      <td>Apple</td>\n",
       "    </tr>\n",
       "    <tr>\n",
       "      <th>9</th>\n",
       "      <td>4.8</td>\n",
       "      <td>79</td>\n",
       "      <td>Apple</td>\n",
       "    </tr>\n",
       "    <tr>\n",
       "      <th>10</th>\n",
       "      <td>5.8</td>\n",
       "      <td>120</td>\n",
       "      <td>Apple</td>\n",
       "    </tr>\n",
       "    <tr>\n",
       "      <th>11</th>\n",
       "      <td>2.6</td>\n",
       "      <td>85</td>\n",
       "      <td>Banana</td>\n",
       "    </tr>\n",
       "    <tr>\n",
       "      <th>12</th>\n",
       "      <td>6.0</td>\n",
       "      <td>110</td>\n",
       "      <td>Apple</td>\n",
       "    </tr>\n",
       "    <tr>\n",
       "      <th>13</th>\n",
       "      <td>6.3</td>\n",
       "      <td>95</td>\n",
       "      <td>Apple</td>\n",
       "    </tr>\n",
       "    <tr>\n",
       "      <th>14</th>\n",
       "      <td>3.0</td>\n",
       "      <td>40</td>\n",
       "      <td>Banana</td>\n",
       "    </tr>\n",
       "    <tr>\n",
       "      <th>15</th>\n",
       "      <td>3.5</td>\n",
       "      <td>25</td>\n",
       "      <td>Banana</td>\n",
       "    </tr>\n",
       "    <tr>\n",
       "      <th>16</th>\n",
       "      <td>5.5</td>\n",
       "      <td>100</td>\n",
       "      <td>Apple</td>\n",
       "    </tr>\n",
       "    <tr>\n",
       "      <th>17</th>\n",
       "      <td>7.5</td>\n",
       "      <td>120</td>\n",
       "      <td>Apple</td>\n",
       "    </tr>\n",
       "    <tr>\n",
       "      <th>18</th>\n",
       "      <td>2.5</td>\n",
       "      <td>50</td>\n",
       "      <td>Banana</td>\n",
       "    </tr>\n",
       "    <tr>\n",
       "      <th>19</th>\n",
       "      <td>2.7</td>\n",
       "      <td>40</td>\n",
       "      <td>Banana</td>\n",
       "    </tr>\n",
       "    <tr>\n",
       "      <th>20</th>\n",
       "      <td>4.8</td>\n",
       "      <td>90</td>\n",
       "      <td>Apple</td>\n",
       "    </tr>\n",
       "    <tr>\n",
       "      <th>21</th>\n",
       "      <td>5.8</td>\n",
       "      <td>90</td>\n",
       "      <td>Apple</td>\n",
       "    </tr>\n",
       "  </tbody>\n",
       "</table>\n",
       "</div>"
      ],
      "text/plain": [
       "    diameter  weight FruitName\n",
       "0        3.0      30    Banana\n",
       "1        6.0     100     Apple\n",
       "2        6.1      95     Apple\n",
       "3        3.2      35    Banana\n",
       "4        5.5      80     Apple\n",
       "5        7.1     120    Banana\n",
       "6        2.5      60    Banana\n",
       "7        2.3     100    Banana\n",
       "8        4.8      70     Apple\n",
       "9        4.8      79     Apple\n",
       "10       5.8     120     Apple\n",
       "11       2.6      85    Banana\n",
       "12       6.0     110     Apple\n",
       "13       6.3      95     Apple\n",
       "14       3.0      40    Banana\n",
       "15       3.5      25    Banana\n",
       "16       5.5     100     Apple\n",
       "17       7.5     120     Apple\n",
       "18       2.5      50    Banana\n",
       "19       2.7      40    Banana\n",
       "20       4.8      90     Apple\n",
       "21       5.8      90     Apple"
      ]
     },
     "execution_count": 10,
     "metadata": {},
     "output_type": "execute_result"
    }
   ],
   "source": [
    "import pandas as pd \n",
    "df = pd.read_csv('fruits.csv') \n",
    "df"
   ]
  },
  {
   "cell_type": "code",
   "execution_count": 17,
   "id": "6a36f181",
   "metadata": {},
   "outputs": [
    {
     "data": {
      "text/html": [
       "<div>\n",
       "<style scoped>\n",
       "    .dataframe tbody tr th:only-of-type {\n",
       "        vertical-align: middle;\n",
       "    }\n",
       "\n",
       "    .dataframe tbody tr th {\n",
       "        vertical-align: top;\n",
       "    }\n",
       "\n",
       "    .dataframe thead th {\n",
       "        text-align: right;\n",
       "    }\n",
       "</style>\n",
       "<table border=\"1\" class=\"dataframe\">\n",
       "  <thead>\n",
       "    <tr style=\"text-align: right;\">\n",
       "      <th></th>\n",
       "      <th>diameter</th>\n",
       "      <th>weight</th>\n",
       "    </tr>\n",
       "  </thead>\n",
       "  <tbody>\n",
       "    <tr>\n",
       "      <th>0</th>\n",
       "      <td>3.0</td>\n",
       "      <td>30</td>\n",
       "    </tr>\n",
       "    <tr>\n",
       "      <th>1</th>\n",
       "      <td>6.0</td>\n",
       "      <td>100</td>\n",
       "    </tr>\n",
       "    <tr>\n",
       "      <th>2</th>\n",
       "      <td>6.1</td>\n",
       "      <td>95</td>\n",
       "    </tr>\n",
       "    <tr>\n",
       "      <th>3</th>\n",
       "      <td>3.2</td>\n",
       "      <td>35</td>\n",
       "    </tr>\n",
       "    <tr>\n",
       "      <th>4</th>\n",
       "      <td>5.5</td>\n",
       "      <td>80</td>\n",
       "    </tr>\n",
       "    <tr>\n",
       "      <th>5</th>\n",
       "      <td>7.1</td>\n",
       "      <td>120</td>\n",
       "    </tr>\n",
       "    <tr>\n",
       "      <th>6</th>\n",
       "      <td>2.5</td>\n",
       "      <td>60</td>\n",
       "    </tr>\n",
       "    <tr>\n",
       "      <th>7</th>\n",
       "      <td>2.3</td>\n",
       "      <td>100</td>\n",
       "    </tr>\n",
       "    <tr>\n",
       "      <th>8</th>\n",
       "      <td>4.8</td>\n",
       "      <td>70</td>\n",
       "    </tr>\n",
       "    <tr>\n",
       "      <th>9</th>\n",
       "      <td>4.8</td>\n",
       "      <td>79</td>\n",
       "    </tr>\n",
       "    <tr>\n",
       "      <th>10</th>\n",
       "      <td>5.8</td>\n",
       "      <td>120</td>\n",
       "    </tr>\n",
       "    <tr>\n",
       "      <th>11</th>\n",
       "      <td>2.6</td>\n",
       "      <td>85</td>\n",
       "    </tr>\n",
       "    <tr>\n",
       "      <th>12</th>\n",
       "      <td>6.0</td>\n",
       "      <td>110</td>\n",
       "    </tr>\n",
       "    <tr>\n",
       "      <th>13</th>\n",
       "      <td>6.3</td>\n",
       "      <td>95</td>\n",
       "    </tr>\n",
       "    <tr>\n",
       "      <th>14</th>\n",
       "      <td>3.0</td>\n",
       "      <td>40</td>\n",
       "    </tr>\n",
       "    <tr>\n",
       "      <th>15</th>\n",
       "      <td>3.5</td>\n",
       "      <td>25</td>\n",
       "    </tr>\n",
       "    <tr>\n",
       "      <th>16</th>\n",
       "      <td>5.5</td>\n",
       "      <td>100</td>\n",
       "    </tr>\n",
       "    <tr>\n",
       "      <th>17</th>\n",
       "      <td>7.5</td>\n",
       "      <td>120</td>\n",
       "    </tr>\n",
       "    <tr>\n",
       "      <th>18</th>\n",
       "      <td>2.5</td>\n",
       "      <td>50</td>\n",
       "    </tr>\n",
       "    <tr>\n",
       "      <th>19</th>\n",
       "      <td>2.7</td>\n",
       "      <td>40</td>\n",
       "    </tr>\n",
       "    <tr>\n",
       "      <th>20</th>\n",
       "      <td>4.8</td>\n",
       "      <td>90</td>\n",
       "    </tr>\n",
       "    <tr>\n",
       "      <th>21</th>\n",
       "      <td>5.8</td>\n",
       "      <td>90</td>\n",
       "    </tr>\n",
       "  </tbody>\n",
       "</table>\n",
       "</div>"
      ],
      "text/plain": [
       "    diameter  weight\n",
       "0        3.0      30\n",
       "1        6.0     100\n",
       "2        6.1      95\n",
       "3        3.2      35\n",
       "4        5.5      80\n",
       "5        7.1     120\n",
       "6        2.5      60\n",
       "7        2.3     100\n",
       "8        4.8      70\n",
       "9        4.8      79\n",
       "10       5.8     120\n",
       "11       2.6      85\n",
       "12       6.0     110\n",
       "13       6.3      95\n",
       "14       3.0      40\n",
       "15       3.5      25\n",
       "16       5.5     100\n",
       "17       7.5     120\n",
       "18       2.5      50\n",
       "19       2.7      40\n",
       "20       4.8      90\n",
       "21       5.8      90"
      ]
     },
     "execution_count": 17,
     "metadata": {},
     "output_type": "execute_result"
    }
   ],
   "source": [
    "df.iloc[:,:-1] # it returns the dataframe"
   ]
  },
  {
   "cell_type": "code",
   "execution_count": 18,
   "id": "6ae9567b",
   "metadata": {},
   "outputs": [
    {
     "data": {
      "text/plain": [
       "pandas.core.frame.DataFrame"
      ]
     },
     "execution_count": 18,
     "metadata": {},
     "output_type": "execute_result"
    }
   ],
   "source": [
    "type(df.iloc[:,:-1])"
   ]
  },
  {
   "cell_type": "code",
   "execution_count": 22,
   "id": "bbdfe847",
   "metadata": {},
   "outputs": [
    {
     "name": "stdout",
     "output_type": "stream",
     "text": [
      "<class 'numpy.ndarray'>\n",
      "[[  3.   30. ]\n",
      " [  6.  100. ]\n",
      " [  6.1  95. ]\n",
      " [  3.2  35. ]\n",
      " [  5.5  80. ]\n",
      " [  7.1 120. ]\n",
      " [  2.5  60. ]\n",
      " [  2.3 100. ]\n",
      " [  4.8  70. ]\n",
      " [  4.8  79. ]\n",
      " [  5.8 120. ]\n",
      " [  2.6  85. ]\n",
      " [  6.  110. ]\n",
      " [  6.3  95. ]\n",
      " [  3.   40. ]\n",
      " [  3.5  25. ]\n",
      " [  5.5 100. ]\n",
      " [  7.5 120. ]\n",
      " [  2.5  50. ]\n",
      " [  2.7  40. ]\n",
      " [  4.8  90. ]\n",
      " [  5.8  90. ]]\n"
     ]
    }
   ],
   "source": [
    "a = df.iloc[:,:-1].values # to convert df into 2-d array,jb hum df pe .values lagate hai to ye df ko numpy array ok 2-d array me convert kr deta hai\n",
    "print(type(a))\n",
    "print(a) \n"
   ]
  },
  {
   "cell_type": "code",
   "execution_count": 26,
   "id": "0682d32f",
   "metadata": {},
   "outputs": [
    {
     "name": "stdout",
     "output_type": "stream",
     "text": [
      "<class 'pandas.core.frame.DataFrame'>\n",
      "<class 'numpy.ndarray'>\n",
      "2\n"
     ]
    }
   ],
   "source": [
    "print(type(df), type(df.values), df.values.ndim,sep='\\n')"
   ]
  },
  {
   "cell_type": "code",
   "execution_count": 30,
   "id": "3a66edf8",
   "metadata": {},
   "outputs": [
    {
     "name": "stdout",
     "output_type": "stream",
     "text": [
      "<class 'numpy.ndarray'>\n",
      "2\n",
      "[[3.0 30 'Banana']\n",
      " [6.0 100 'Apple']\n",
      " [6.1 95 'Apple']\n",
      " [3.2 35 'Banana']\n",
      " [5.5 80 'Apple']\n",
      " [7.1 120 'Banana']\n",
      " [2.5 60 'Banana']\n",
      " [2.3 100 'Banana']\n",
      " [4.8 70 'Apple']\n",
      " [4.8 79 'Apple']\n",
      " [5.8 120 'Apple']\n",
      " [2.6 85 'Banana']\n",
      " [6.0 110 'Apple']\n",
      " [6.3 95 'Apple']\n",
      " [3.0 40 'Banana']\n",
      " [3.5 25 'Banana']\n",
      " [5.5 100 'Apple']\n",
      " [7.5 120 'Apple']\n",
      " [2.5 50 'Banana']\n",
      " [2.7 40 'Banana']\n",
      " [4.8 90 'Apple']\n",
      " [5.8 90 'Apple']]\n"
     ]
    }
   ],
   "source": [
    "#another way to convert df to numpy array \n",
    "a = df.to_numpy() \n",
    "print(type(a), a.ndim, a,sep='\\n')"
   ]
  },
  {
   "cell_type": "code",
   "execution_count": 33,
   "id": "ee565d8f",
   "metadata": {},
   "outputs": [],
   "source": [
    "# df.as_matrix() ---> it has been deprecated i.e will be removed in future version"
   ]
  },
  {
   "cell_type": "code",
   "execution_count": 38,
   "id": "87255f97",
   "metadata": {},
   "outputs": [],
   "source": [
    "X = df.iloc[:,:-1].values # here it is a convention of capital X means feature matrix is stored in a Catpital X its a convention   "
   ]
  },
  {
   "cell_type": "code",
   "execution_count": 39,
   "id": "afb219c9",
   "metadata": {},
   "outputs": [
    {
     "data": {
      "text/plain": [
       "array([[  3. ,  30. ],\n",
       "       [  6. , 100. ],\n",
       "       [  6.1,  95. ],\n",
       "       [  3.2,  35. ],\n",
       "       [  5.5,  80. ],\n",
       "       [  7.1, 120. ],\n",
       "       [  2.5,  60. ],\n",
       "       [  2.3, 100. ],\n",
       "       [  4.8,  70. ],\n",
       "       [  4.8,  79. ],\n",
       "       [  5.8, 120. ],\n",
       "       [  2.6,  85. ],\n",
       "       [  6. , 110. ],\n",
       "       [  6.3,  95. ],\n",
       "       [  3. ,  40. ],\n",
       "       [  3.5,  25. ],\n",
       "       [  5.5, 100. ],\n",
       "       [  7.5, 120. ],\n",
       "       [  2.5,  50. ],\n",
       "       [  2.7,  40. ],\n",
       "       [  4.8,  90. ],\n",
       "       [  5.8,  90. ]])"
      ]
     },
     "execution_count": 39,
     "metadata": {},
     "output_type": "execute_result"
    }
   ],
   "source": [
    "X"
   ]
  },
  {
   "cell_type": "markdown",
   "id": "21921fc6",
   "metadata": {},
   "source": [
    "### How to get response vector"
   ]
  },
  {
   "cell_type": "code",
   "execution_count": 44,
   "id": "1895fc6b",
   "metadata": {
    "collapsed": true
   },
   "outputs": [
    {
     "data": {
      "text/plain": [
       "0     Banana\n",
       "1      Apple\n",
       "2      Apple\n",
       "3     Banana\n",
       "4      Apple\n",
       "5     Banana\n",
       "6     Banana\n",
       "7     Banana\n",
       "8      Apple\n",
       "9      Apple\n",
       "10     Apple\n",
       "11    Banana\n",
       "12     Apple\n",
       "13     Apple\n",
       "14    Banana\n",
       "15    Banana\n",
       "16     Apple\n",
       "17     Apple\n",
       "18    Banana\n",
       "19    Banana\n",
       "20     Apple\n",
       "21     Apple\n",
       "Name: FruitName, dtype: object"
      ]
     },
     "execution_count": 44,
     "metadata": {},
     "output_type": "execute_result"
    }
   ],
   "source": [
    "df.FruitName # it returns a series"
   ]
  },
  {
   "cell_type": "code",
   "execution_count": 45,
   "id": "f2534285",
   "metadata": {
    "collapsed": true
   },
   "outputs": [
    {
     "data": {
      "text/plain": [
       "0     Banana\n",
       "1      Apple\n",
       "2      Apple\n",
       "3     Banana\n",
       "4      Apple\n",
       "5     Banana\n",
       "6     Banana\n",
       "7     Banana\n",
       "8      Apple\n",
       "9      Apple\n",
       "10     Apple\n",
       "11    Banana\n",
       "12     Apple\n",
       "13     Apple\n",
       "14    Banana\n",
       "15    Banana\n",
       "16     Apple\n",
       "17     Apple\n",
       "18    Banana\n",
       "19    Banana\n",
       "20     Apple\n",
       "21     Apple\n",
       "Name: FruitName, dtype: object"
      ]
     },
     "execution_count": 45,
     "metadata": {},
     "output_type": "execute_result"
    }
   ],
   "source": [
    "df['FruitName']# it also returns a series"
   ]
  },
  {
   "cell_type": "code",
   "execution_count": 46,
   "id": "8ed9af28",
   "metadata": {},
   "outputs": [
    {
     "data": {
      "text/plain": [
       "pandas.core.series.Series"
      ]
     },
     "execution_count": 46,
     "metadata": {},
     "output_type": "execute_result"
    }
   ],
   "source": [
    "type(df['FruitName'])"
   ]
  },
  {
   "cell_type": "code",
   "execution_count": 52,
   "id": "e92a4689",
   "metadata": {},
   "outputs": [
    {
     "data": {
      "text/plain": [
       "0     Banana\n",
       "1      Apple\n",
       "2      Apple\n",
       "3     Banana\n",
       "4      Apple\n",
       "5     Banana\n",
       "6     Banana\n",
       "7     Banana\n",
       "8      Apple\n",
       "9      Apple\n",
       "10     Apple\n",
       "11    Banana\n",
       "12     Apple\n",
       "13     Apple\n",
       "14    Banana\n",
       "15    Banana\n",
       "16     Apple\n",
       "17     Apple\n",
       "18    Banana\n",
       "19    Banana\n",
       "20     Apple\n",
       "21     Apple\n",
       "Name: FruitName, dtype: object"
      ]
     },
     "execution_count": 52,
     "metadata": {},
     "output_type": "execute_result"
    }
   ],
   "source": [
    "df.iloc[:,-1]"
   ]
  },
  {
   "cell_type": "code",
   "execution_count": 53,
   "id": "638281f0",
   "metadata": {},
   "outputs": [
    {
     "data": {
      "text/plain": [
       "pandas.core.series.Series"
      ]
     },
     "execution_count": 53,
     "metadata": {},
     "output_type": "execute_result"
    }
   ],
   "source": [
    "type(df.iloc[:,-1])"
   ]
  },
  {
   "cell_type": "code",
   "execution_count": 54,
   "id": "d606b6c0",
   "metadata": {},
   "outputs": [
    {
     "data": {
      "text/plain": [
       "1"
      ]
     },
     "execution_count": 54,
     "metadata": {},
     "output_type": "execute_result"
    }
   ],
   "source": [
    "df.iloc[:,-1].ndim"
   ]
  },
  {
   "cell_type": "markdown",
   "id": "d9ea4405",
   "metadata": {},
   "source": [
    "### How to convert series into the 1-d array"
   ]
  },
  {
   "cell_type": "code",
   "execution_count": 48,
   "id": "f67b657e",
   "metadata": {},
   "outputs": [
    {
     "data": {
      "text/plain": [
       "array(['Banana', 'Apple', 'Apple', 'Banana', 'Apple', 'Banana', 'Banana',\n",
       "       'Banana', 'Apple', 'Apple', 'Apple', 'Banana', 'Apple', 'Apple',\n",
       "       'Banana', 'Banana', 'Apple', 'Apple', 'Banana', 'Banana', 'Apple',\n",
       "       'Apple'], dtype=object)"
      ]
     },
     "execution_count": 48,
     "metadata": {},
     "output_type": "execute_result"
    }
   ],
   "source": [
    "df['FruitName'].values"
   ]
  },
  {
   "cell_type": "code",
   "execution_count": 49,
   "id": "5162653f",
   "metadata": {},
   "outputs": [
    {
     "data": {
      "text/plain": [
       "numpy.ndarray"
      ]
     },
     "execution_count": 49,
     "metadata": {},
     "output_type": "execute_result"
    }
   ],
   "source": [
    "type(df['FruitName'].values)"
   ]
  },
  {
   "cell_type": "code",
   "execution_count": 50,
   "id": "df540c9d",
   "metadata": {},
   "outputs": [
    {
     "data": {
      "text/plain": [
       "1"
      ]
     },
     "execution_count": 50,
     "metadata": {},
     "output_type": "execute_result"
    }
   ],
   "source": [
    "df['FruitName'].values.ndim"
   ]
  },
  {
   "cell_type": "code",
   "execution_count": 57,
   "id": "467745f7",
   "metadata": {},
   "outputs": [],
   "source": [
    "y = df.iloc[:,-1].values # here there is a convention to assume small y for response vector"
   ]
  },
  {
   "cell_type": "code",
   "execution_count": 58,
   "id": "fa4e36a6",
   "metadata": {},
   "outputs": [
    {
     "data": {
      "text/html": [
       "<style>#sk-container-id-1 {color: black;background-color: white;}#sk-container-id-1 pre{padding: 0;}#sk-container-id-1 div.sk-toggleable {background-color: white;}#sk-container-id-1 label.sk-toggleable__label {cursor: pointer;display: block;width: 100%;margin-bottom: 0;padding: 0.3em;box-sizing: border-box;text-align: center;}#sk-container-id-1 label.sk-toggleable__label-arrow:before {content: \"▸\";float: left;margin-right: 0.25em;color: #696969;}#sk-container-id-1 label.sk-toggleable__label-arrow:hover:before {color: black;}#sk-container-id-1 div.sk-estimator:hover label.sk-toggleable__label-arrow:before {color: black;}#sk-container-id-1 div.sk-toggleable__content {max-height: 0;max-width: 0;overflow: hidden;text-align: left;background-color: #f0f8ff;}#sk-container-id-1 div.sk-toggleable__content pre {margin: 0.2em;color: black;border-radius: 0.25em;background-color: #f0f8ff;}#sk-container-id-1 input.sk-toggleable__control:checked~div.sk-toggleable__content {max-height: 200px;max-width: 100%;overflow: auto;}#sk-container-id-1 input.sk-toggleable__control:checked~label.sk-toggleable__label-arrow:before {content: \"▾\";}#sk-container-id-1 div.sk-estimator input.sk-toggleable__control:checked~label.sk-toggleable__label {background-color: #d4ebff;}#sk-container-id-1 div.sk-label input.sk-toggleable__control:checked~label.sk-toggleable__label {background-color: #d4ebff;}#sk-container-id-1 input.sk-hidden--visually {border: 0;clip: rect(1px 1px 1px 1px);clip: rect(1px, 1px, 1px, 1px);height: 1px;margin: -1px;overflow: hidden;padding: 0;position: absolute;width: 1px;}#sk-container-id-1 div.sk-estimator {font-family: monospace;background-color: #f0f8ff;border: 1px dotted black;border-radius: 0.25em;box-sizing: border-box;margin-bottom: 0.5em;}#sk-container-id-1 div.sk-estimator:hover {background-color: #d4ebff;}#sk-container-id-1 div.sk-parallel-item::after {content: \"\";width: 100%;border-bottom: 1px solid gray;flex-grow: 1;}#sk-container-id-1 div.sk-label:hover label.sk-toggleable__label {background-color: #d4ebff;}#sk-container-id-1 div.sk-serial::before {content: \"\";position: absolute;border-left: 1px solid gray;box-sizing: border-box;top: 0;bottom: 0;left: 50%;z-index: 0;}#sk-container-id-1 div.sk-serial {display: flex;flex-direction: column;align-items: center;background-color: white;padding-right: 0.2em;padding-left: 0.2em;position: relative;}#sk-container-id-1 div.sk-item {position: relative;z-index: 1;}#sk-container-id-1 div.sk-parallel {display: flex;align-items: stretch;justify-content: center;background-color: white;position: relative;}#sk-container-id-1 div.sk-item::before, #sk-container-id-1 div.sk-parallel-item::before {content: \"\";position: absolute;border-left: 1px solid gray;box-sizing: border-box;top: 0;bottom: 0;left: 50%;z-index: -1;}#sk-container-id-1 div.sk-parallel-item {display: flex;flex-direction: column;z-index: 1;position: relative;background-color: white;}#sk-container-id-1 div.sk-parallel-item:first-child::after {align-self: flex-end;width: 50%;}#sk-container-id-1 div.sk-parallel-item:last-child::after {align-self: flex-start;width: 50%;}#sk-container-id-1 div.sk-parallel-item:only-child::after {width: 0;}#sk-container-id-1 div.sk-dashed-wrapped {border: 1px dashed gray;margin: 0 0.4em 0.5em 0.4em;box-sizing: border-box;padding-bottom: 0.4em;background-color: white;}#sk-container-id-1 div.sk-label label {font-family: monospace;font-weight: bold;display: inline-block;line-height: 1.2em;}#sk-container-id-1 div.sk-label-container {text-align: center;}#sk-container-id-1 div.sk-container {/* jupyter's `normalize.less` sets `[hidden] { display: none; }` but bootstrap.min.css set `[hidden] { display: none !important; }` so we also need the `!important` here to be able to override the default hidden behavior on the sphinx rendered scikit-learn.org. See: https://github.com/scikit-learn/scikit-learn/issues/21755 */display: inline-block !important;position: relative;}#sk-container-id-1 div.sk-text-repr-fallback {display: none;}</style><div id=\"sk-container-id-1\" class=\"sk-top-container\"><div class=\"sk-text-repr-fallback\"><pre>KNeighborsClassifier()</pre><b>In a Jupyter environment, please rerun this cell to show the HTML representation or trust the notebook. <br />On GitHub, the HTML representation is unable to render, please try loading this page with nbviewer.org.</b></div><div class=\"sk-container\" hidden><div class=\"sk-item\"><div class=\"sk-estimator sk-toggleable\"><input class=\"sk-toggleable__control sk-hidden--visually\" id=\"sk-estimator-id-1\" type=\"checkbox\" checked><label for=\"sk-estimator-id-1\" class=\"sk-toggleable__label sk-toggleable__label-arrow\">KNeighborsClassifier</label><div class=\"sk-toggleable__content\"><pre>KNeighborsClassifier()</pre></div></div></div></div></div>"
      ],
      "text/plain": [
       "KNeighborsClassifier()"
      ]
     },
     "execution_count": 58,
     "metadata": {},
     "output_type": "execute_result"
    }
   ],
   "source": [
    "from sklearn.neighbors import KNeighborsClassifier # where sklearn is a package neighbors is a module and KNeighborsClassifier is a class(algorithm)   \n",
    "knc = KNeighborsClassifier() # creating the object of the class KNeighborsClassifier\n",
    "knc.fit(X, y)# here fit takes fit(feature_matrix,response_vectore) \n",
    "             # build model/generate rule/pattern/training/learning "
   ]
  },
  {
   "cell_type": "code",
   "execution_count": 59,
   "id": "d8ca246c",
   "metadata": {},
   "outputs": [
    {
     "data": {
      "text/plain": [
       "array(['Banana', 'Apple'], dtype=object)"
      ]
     },
     "execution_count": 59,
     "metadata": {},
     "output_type": "execute_result"
    }
   ],
   "source": [
    "test_samples1 = [3.2,45]\n",
    "test_samples2 = [4.2,65] \n",
    "knc.predict([test_samples1, test_samples2]) # here it takes samples as list of list [[]] or 2-dimentional array  \n",
    "                                            # it returns the 1-d array of output \n",
    "                                            # it is example of multiple inputs"
   ]
  },
  {
   "cell_type": "code",
   "execution_count": 63,
   "id": "67522cce",
   "metadata": {},
   "outputs": [
    {
     "data": {
      "text/plain": [
       "array(['Banana'], dtype=object)"
      ]
     },
     "execution_count": 63,
     "metadata": {},
     "output_type": "execute_result"
    }
   ],
   "source": [
    "knc.predict([test_samples1])"
   ]
  },
  {
   "cell_type": "code",
   "execution_count": 64,
   "id": "af157a1d",
   "metadata": {},
   "outputs": [
    {
     "data": {
      "text/plain": [
       "numpy.ndarray"
      ]
     },
     "execution_count": 64,
     "metadata": {},
     "output_type": "execute_result"
    }
   ],
   "source": [
    "type(knc.predict([test_samples1, test_samples2]))"
   ]
  },
  {
   "cell_type": "code",
   "execution_count": 65,
   "id": "204e7a5b",
   "metadata": {},
   "outputs": [
    {
     "data": {
      "text/plain": [
       "1"
      ]
     },
     "execution_count": 65,
     "metadata": {},
     "output_type": "execute_result"
    }
   ],
   "source": [
    "knc.predict([test_samples1, test_samples2]).ndim "
   ]
  },
  {
   "cell_type": "code",
   "execution_count": null,
   "id": "bce1499f",
   "metadata": {},
   "outputs": [],
   "source": []
  },
  {
   "cell_type": "code",
   "execution_count": null,
   "id": "ace2a502",
   "metadata": {},
   "outputs": [],
   "source": []
  }
 ],
 "metadata": {
  "kernelspec": {
   "display_name": "Python 3 (ipykernel)",
   "language": "python",
   "name": "python3"
  },
  "language_info": {
   "codemirror_mode": {
    "name": "ipython",
    "version": 3
   },
   "file_extension": ".py",
   "mimetype": "text/x-python",
   "name": "python",
   "nbconvert_exporter": "python",
   "pygments_lexer": "ipython3",
   "version": "3.9.13"
  }
 },
 "nbformat": 4,
 "nbformat_minor": 5
}
