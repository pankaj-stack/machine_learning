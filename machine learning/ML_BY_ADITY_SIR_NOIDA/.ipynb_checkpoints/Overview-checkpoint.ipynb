{
 "cells": [
  {
   "cell_type": "raw",
   "id": "90f586f0",
   "metadata": {},
   "source": [
    "    Artificial Inteligenc(Experience) AI:\n",
    "        >Any technique which enables machines to mimic human behaviour \n",
    "        >Generally we have 3-techniques to implement AI \n",
    "            >By writing multiple if-else \n",
    "            >By using machine learning \n",
    "            >Deep learning \n",
    "    AI = machine learning + deep learning \n"
   ]
  },
  {
   "cell_type": "raw",
   "id": "bc601bf7",
   "metadata": {},
   "source": [
    "    Traditional Programming                           Machine Learning Programming\n",
    "    --------------------------------------------------------------------------------\n",
    "    input (2)                                           Experience         Input (3)\n",
    "      |                                                    |  (1)\n",
    "      |                                                    |\n",
    "     Rule(program) (1)                                  ALGORITHM(program) \n",
    "      |                                                    |  (2)\n",
    "      |                                                    |\n",
    "     Output       (3)                                   Generate Rule  \n",
    "                                                           |  (4)\n",
    "                                                           |\n",
    "                                                        Output(prediction)\n",
    "                                                       "
   ]
  },
  {
   "cell_type": "code",
   "execution_count": null,
   "id": "8641dca5",
   "metadata": {},
   "outputs": [],
   "source": [
    "Machine Learning:\n",
    "---------------- \n",
    "    >It is a technique to make prediction by learning rule form experiences. \n",
    "    \n",
    "    >It is a subset of AI that enables the machine to  predict a solution without being explicitly\n",
    "        programmed. \n",
    "        \n",
    "When to use ML to solve problem:\n",
    "------------------------------- \n",
    "    >spam detection\n",
    "    >review analysis \n",
    "    >face detection\n",
    "    >mood detection\n",
    "    >gender detection \n",
    "    >attendence system using facial recognition\n",
    "    >age prediction \n",
    "    >chat bot \n",
    "    >recommendation system \n",
    "    >number plate recognition\n",
    "    >traffic system \n",
    "    >attendence system using fingure print \n",
    "    >etc ...\n",
    "    \n",
    "When not use ML to sove the problem:\n",
    "------------------------------------\n",
    "    >addition of two nos. \n",
    "    >simple interest \n",
    "    >login\n",
    "    >registeration\n",
    "    >money transfer\n",
    "    >ticket booking \n",
    "    >inventary management\n",
    "    >billing automation \n",
    "    >library management \n",
    "    >virus \n",
    "    >antivirus \n",
    "    >driver \n",
    "    >etc .. \n",
    "    "
   ]
  }
 ],
 "metadata": {
  "kernelspec": {
   "display_name": "Python 3",
   "language": "python",
   "name": "python3"
  },
  "language_info": {
   "codemirror_mode": {
    "name": "ipython",
    "version": 3
   },
   "file_extension": ".py",
   "mimetype": "text/x-python",
   "name": "python",
   "nbconvert_exporter": "python",
   "pygments_lexer": "ipython3",
   "version": "3.9.6"
  }
 },
 "nbformat": 4,
 "nbformat_minor": 5
}
