{
 "cells": [
  {
   "cell_type": "code",
   "execution_count": 1,
   "metadata": {},
   "outputs": [
    {
     "name": "stdout",
     "output_type": "stream",
     "text": [
      "shape of  image : (3264, 1552, 3)\n",
      "dimention of image : 3\n",
      "items/elements of the image : 15197184\n"
     ]
    },
    {
     "ename": "AttributeError",
     "evalue": "module 'PIL.Image' has no attribute 'show'",
     "output_type": "error",
     "traceback": [
      "\u001b[0;31m---------------------------------------------------------------------------\u001b[0m",
      "\u001b[0;31mAttributeError\u001b[0m                            Traceback (most recent call last)",
      "\u001b[0;32m<ipython-input-1-94b07091230b>\u001b[0m in \u001b[0;36m<module>\u001b[0;34m\u001b[0m\n\u001b[1;32m     11\u001b[0m \u001b[0mprint\u001b[0m\u001b[0;34m(\u001b[0m\u001b[0;34mf'items/elements of the image : {image_array.size}'\u001b[0m \u001b[0;34m)\u001b[0m\u001b[0;34m\u001b[0m\u001b[0;34m\u001b[0m\u001b[0m\n\u001b[1;32m     12\u001b[0m \u001b[0;31m#print(image_array)\u001b[0m\u001b[0;34m\u001b[0m\u001b[0;34m\u001b[0m\u001b[0;34m\u001b[0m\u001b[0m\n\u001b[0;32m---> 13\u001b[0;31m \u001b[0mprint\u001b[0m\u001b[0;34m(\u001b[0m\u001b[0mImage\u001b[0m\u001b[0;34m.\u001b[0m\u001b[0mshow\u001b[0m\u001b[0;34m(\u001b[0m\u001b[0;34m'/home/pankaj/Dropbox/IMG20181119131934.jpg'\u001b[0m\u001b[0;34m)\u001b[0m\u001b[0;34m)\u001b[0m\u001b[0;34m\u001b[0m\u001b[0;34m\u001b[0m\u001b[0m\n\u001b[0m",
      "\u001b[0;31mAttributeError\u001b[0m: module 'PIL.Image' has no attribute 'show'"
     ]
    }
   ],
   "source": [
    "#Combination of the colours are channels like : R G B (red green blue)\n",
    "from PIL import Image# PIl is called pillow\n",
    "import numpy as np\n",
    "#image_object\n",
    "image=Image.open('/home/pankaj/Dropbox/IMG20181119131934.jpg')\n",
    "#print(image.show())\n",
    "image_array=np.array(image)#creating image array\n",
    "#(768, 1366, 4)==(height,width,no_of_channels)\n",
    "print(f'shape of  image : {image_array.shape}' )\n",
    "print(f'dimention of image : {image_array.ndim}' )\n",
    "print(f'items/elements of the image : {image_array.size}' )\n",
    "#print(image_array)"
   ]
  },
  {
   "cell_type": "code",
   "execution_count": 2,
   "metadata": {},
   "outputs": [
    {
     "name": "stdout",
     "output_type": "stream",
     "text": [
      "float64\n"
     ]
    }
   ],
   "source": [
    "#If you want to calculate with decimal point for image data, read in float.\n",
    "new_image=np.array(image,np.float)# reading image in float\n",
    "print(new_image.dtype)"
   ]
  },
  {
   "cell_type": "code",
   "execution_count": 19,
   "metadata": {},
   "outputs": [
    {
     "name": "stdout",
     "output_type": "stream",
     "text": [
      "[93. 87. 75.]\n",
      "75.0\n",
      "0.0\n",
      "0.0\n"
     ]
    }
   ],
   "source": [
    "print(new_image[256,256])#[93. 87. 75.] is red,green and blue\n",
    "print(new_image[256,256].min())# value of R(red colour)\n",
    "print(new_image[:,:,0].min())\n",
    "print(new_image.min())"
   ]
  },
  {
   "cell_type": "markdown",
   "metadata": {},
   "source": [
    "# How to save ndarray as image file"
   ]
  },
  {
   "cell_type": "code",
   "execution_count": 4,
   "metadata": {},
   "outputs": [],
   "source": [
    "array_image=Image.fromarray(image_array)\n",
    "array_image.save('/home/pankaj/Downloads/array_image.jpg')#.png is also support it "
   ]
  },
  {
   "cell_type": "code",
   "execution_count": 5,
   "metadata": {},
   "outputs": [],
   "source": [
    "# You can also write above code in one line\n",
    "Image.fromarray(image_array).save('/home/pankaj/Downloads/array_image1.jpg')"
   ]
  },
  {
   "cell_type": "markdown",
   "metadata": {},
   "source": [
    "# Generation of single color image and concatenation"
   ]
  },
  {
   "cell_type": "raw",
   "metadata": {},
   "source": [
    "Generate single-color images by setting other color values to 0, \n",
    "and concatenate them horizontally with np.concatenate().\n",
    "You can also concatenate images using np.hstack() or np.c_[]"
   ]
  },
  {
   "cell_type": "code",
   "execution_count": 27,
   "metadata": {},
   "outputs": [],
   "source": [
    "# Generation of single color image and concatenation\n",
    "from PIL import Image\n",
    "import numpy as np\n",
    "image=Image.open('/home/pankaj/Dropbox/IMG20181124131615.jpg')\n",
    "image_array=np.array(image)\n",
    "R=image_array.copy()\n",
    "R[:,:,(1,2)]=0\n",
    "G=image_array.copy()\n",
    "G[:,:,(0,2)]=0\n",
    "B=image_array.copy()\n",
    "B[:,:,(0,1)]=0\n",
    "RGB_image=np.concatenate((R,G,B),axis=1)\n",
    "rgb=Image.fromarray(RGB_image)\n",
    "rgb.save('/home/pankaj/Downloads/R_image.png')"
   ]
  },
  {
   "cell_type": "code",
   "execution_count": 28,
   "metadata": {},
   "outputs": [],
   "source": [
    "# Generation of single color image and concatenation\n",
    "from PIL import Image\n",
    "import numpy as np\n",
    "image=Image.open('/home/pankaj/Dropbox/IMG20181124131615.jpg')\n",
    "image_array=np.array(image)\n",
    "R=image_array.copy()\n",
    "R[:,:,(1,2)]=0\n",
    "G=image_array.copy()\n",
    "G[:,::2]=0#<<<-------------------------------------------------------------------------\n",
    "B=image_array.copy()\n",
    "B[:,:,(0,1)]=0\n",
    "RGB_image=np.concatenate((R,G,B),axis=1)\n",
    "rgb=Image.fromarray(RGB_image)\n",
    "rgb.save('/home/pankaj/Downloads/R_image1.png')"
   ]
  },
  {
   "cell_type": "markdown",
   "metadata": {},
   "source": [
    "# Negative / positive inversion (invert pixel value)"
   ]
  },
  {
   "cell_type": "raw",
   "metadata": {},
   "source": [
    "It is also easy to calculate and process pixel values.\n",
    "\n",
    "A negative-positive inverted image can be generated by subtracting the pixel value from \n",
    "the max value (255 for uint8).\n"
   ]
  },
  {
   "cell_type": "code",
   "execution_count": 43,
   "metadata": {},
   "outputs": [],
   "source": [
    "from PIL import Image\n",
    "import numpy as np\n",
    "image=Image.open('/home/pankaj/Dropbox/IMG20181124131615.jpg')\n",
    "image=image.resize((255,255))\n",
    "image_array=np.array(image)\n",
    "image_array1=255-image_array\n",
    "new_image=Image.fromarray(image_array1)\n",
    "new_image.save('/home/pankaj/Downloads/R_image1.jpg')"
   ]
  },
  {
   "cell_type": "markdown",
   "metadata": {},
   "source": [
    "# Color reduction"
   ]
  },
  {
   "cell_type": "code",
   "execution_count": null,
   "metadata": {},
   "outputs": [],
   "source": [
    "Cut off the remainder of the division using // and multiply again, the pixel values \n",
    "become discrete values and the number of colors can be reduced."
   ]
  },
  {
   "cell_type": "code",
   "execution_count": 47,
   "metadata": {},
   "outputs": [],
   "source": [
    "from PIL import Image\n",
    "import numpy as np\n",
    "image=Image.open('/home/pankaj/Dropbox/IMG20181124131615.jpg')\n",
    "image_array=np.array(image)\n",
    "image32=image_array//32*32\n",
    "image128=image_array//128*128\n",
    "descrete_image=np.concatenate((image,image32,image128),axis=1)\n",
    "Image.fromarray(descrete_image).save('/home/pankaj/Downloads/R_image1.jpg')\n"
   ]
  },
  {
   "cell_type": "markdown",
   "metadata": {},
   "source": [
    "# Gama correction"
   ]
  },
  {
   "cell_type": "code",
   "execution_count": 10,
   "metadata": {},
   "outputs": [],
   "source": [
    "import numpy as np\n",
    "from PIL import Image\n",
    "image=np.array(Image.open('/home/pankaj/Dropbox/IMG20181124131615.jpg'))\n",
    "img122=255.0*(image/255.0)**(1/2.2)\n",
    "img22=255.0*(image/255.0)**2.2\n",
    "concate_image=np.concatenate((image,img122,img22),axis=1)\n",
    "gama_image=Image.fromarray(np.uint8(gama_image))\n",
    "gama_image.save('/home/pankaj/Downloads/gama_image.jpg')"
   ]
  },
  {
   "cell_type": "code",
   "execution_count": null,
   "metadata": {},
   "outputs": [],
   "source": []
  },
  {
   "cell_type": "code",
   "execution_count": null,
   "metadata": {},
   "outputs": [],
   "source": []
  },
  {
   "cell_type": "code",
   "execution_count": null,
   "metadata": {},
   "outputs": [],
   "source": []
  },
  {
   "cell_type": "code",
   "execution_count": null,
   "metadata": {},
   "outputs": [],
   "source": [
    "# To display the image use cv2\n",
    "import cv2\n",
    "\n",
    "# Load an color image in grayscale\n",
    "img = cv2.imread('/home/pankaj/Downloads/R_image1.jpg')\n",
    "cv2.namedWindow('image', cv2.WINDOW_NORMAL)\n",
    "cv2.imshow('image',img)\n",
    "cv2.waitKey()\n",
    "cv2.destroyAllWindows()"
   ]
  },
  {
   "cell_type": "code",
   "execution_count": null,
   "metadata": {},
   "outputs": [],
   "source": []
  },
  {
   "cell_type": "code",
   "execution_count": null,
   "metadata": {},
   "outputs": [],
   "source": []
  },
  {
   "cell_type": "code",
   "execution_count": 2,
   "metadata": {},
   "outputs": [
    {
     "ename": "TypeError",
     "evalue": "Expected Ptr<cv::UMat> for argument '%s'",
     "output_type": "error",
     "traceback": [
      "\u001b[0;31m---------------------------------------------------------------------------\u001b[0m",
      "\u001b[0;31mTypeError\u001b[0m                                 Traceback (most recent call last)",
      "\u001b[0;32m<ipython-input-2-9c9ea3c6a1c7>\u001b[0m in \u001b[0;36m<module>\u001b[0;34m\u001b[0m\n\u001b[1;32m      3\u001b[0m \u001b[0mimage\u001b[0m\u001b[0;34m=\u001b[0m\u001b[0mcv2\u001b[0m\u001b[0;34m.\u001b[0m\u001b[0mimread\u001b[0m\u001b[0;34m(\u001b[0m\u001b[0;34m'/home/pankaj/Pictures/Screenshot from 2019-11-30 12-58-13.png'\u001b[0m\u001b[0;34m)\u001b[0m\u001b[0;34m\u001b[0m\u001b[0;34m\u001b[0m\u001b[0m\n\u001b[1;32m      4\u001b[0m \u001b[0;31m#image\u001b[0m\u001b[0;34m\u001b[0m\u001b[0;34m\u001b[0m\u001b[0;34m\u001b[0m\u001b[0m\n\u001b[0;32m----> 5\u001b[0;31m \u001b[0mcv2\u001b[0m\u001b[0;34m.\u001b[0m\u001b[0mimshow\u001b[0m\u001b[0;34m(\u001b[0m\u001b[0;34m'image'\u001b[0m\u001b[0;34m,\u001b[0m\u001b[0;34m'/home/pankaj/Pictures/Screenshot from 2019-11-30 12-58-13.png'\u001b[0m\u001b[0;34m)\u001b[0m\u001b[0;34m\u001b[0m\u001b[0;34m\u001b[0m\u001b[0m\n\u001b[0m",
      "\u001b[0;31mTypeError\u001b[0m: Expected Ptr<cv::UMat> for argument '%s'"
     ]
    }
   ],
   "source": [
    "# opencv2 is third party application\n",
    "import cv2\n",
    "image=cv2.imread('/home/pankaj/Pictures/Screenshot from 2019-11-30 12-58-13.png')\n",
    "#image\n",
    "cv2.imshow('image','/home/pankaj/Pictures/Screenshot from 2019-11-30 12-58-13.png')"
   ]
  },
  {
   "cell_type": "code",
   "execution_count": 12,
   "metadata": {},
   "outputs": [],
   "source": [
    "import skimage.io as io\n",
    "image=io.imread('/home/pankaj/Pictures/Screenshot from 2019-11-30 12-58-13.png')\n",
    "#image\n"
   ]
  },
  {
   "cell_type": "code",
   "execution_count": 11,
   "metadata": {},
   "outputs": [
    {
     "name": "stdout",
     "output_type": "stream",
     "text": [
      "0\n"
     ]
    },
    {
     "data": {
      "text/plain": [
       "array('hello', dtype='<U5')"
      ]
     },
     "execution_count": 11,
     "metadata": {},
     "output_type": "execute_result"
    }
   ],
   "source": [
    "str='hello'\n",
    "information=np.array(str)\n",
    "print(information.ndim)\n",
    "information"
   ]
  },
  {
   "cell_type": "code",
   "execution_count": null,
   "metadata": {},
   "outputs": [],
   "source": []
  }
 ],
 "metadata": {
  "kernelspec": {
   "display_name": "Python 3",
   "language": "python",
   "name": "python3"
  },
  "language_info": {
   "codemirror_mode": {
    "name": "ipython",
    "version": 3
   },
   "file_extension": ".py",
   "mimetype": "text/x-python",
   "name": "python",
   "nbconvert_exporter": "python",
   "pygments_lexer": "ipython3",
   "version": "3.7.4"
  }
 },
 "nbformat": 4,
 "nbformat_minor": 2
}
