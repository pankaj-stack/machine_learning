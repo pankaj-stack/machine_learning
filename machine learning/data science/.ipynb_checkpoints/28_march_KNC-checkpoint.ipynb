{
 "cells": [
  {
   "cell_type": "code",
   "execution_count": 14,
   "metadata": {},
   "outputs": [
    {
     "data": {
      "image/png": "[encoded data removed]",
      "text/plain": [
       "<Figure size 432x288 with 1 Axes>"
      ]
     },
     "metadata": {
      "needs_background": "light"
     },
     "output_type": "display_data"
    }
   ],
   "source": [
    "import pandas as pd\n",
    "df=pd.read_csv('c:/dataset/classification/fruits.csv')\n",
    "import matplotlib.pyplot as plt\n",
    "import seaborn as sns\n",
    "sns.scatterplot(x='diameter',y='weight',data=df,hue='FruitName')\n",
    "plt.scatter(x=[3.8],y=[60],c='k')\n",
    "plt.show()"
   ]
  },
  {
   "cell_type": "code",
   "execution_count": 17,
   "metadata": {},
   "outputs": [],
   "source": [
    "from sklearn.neighbors import KNeighborsClassifier\n",
    "from sklearn.metrics import accuracy_score\n",
    "X_train=df.iloc[:15,0:-1].values\n",
    "y_train=df.iloc[:15,-1].values\n",
    "X_test=df.iloc[15:,0:-1].values\n",
    "y_test=df.iloc[15:,-1].values"
   ]
  },
  {
   "cell_type": "code",
   "execution_count": 39,
   "metadata": {},
   "outputs": [
    {
     "name": "stdout",
     "output_type": "stream",
     "text": [
      "Neighbors=3\n",
      "Training Acc: 0.7333333333333333\n",
      "Testing Acc: 1.0\n",
      "\n",
      "Neighbors=4\n",
      "Training Acc: 0.7333333333333333\n",
      "Testing Acc: 1.0\n",
      "\n",
      "Neighbors=5\n",
      "Training Acc: 0.7333333333333333\n",
      "Testing Acc: 1.0\n",
      "\n",
      "Neighbors=6\n",
      "Training Acc: 0.7333333333333333\n",
      "Testing Acc: 1.0\n",
      "\n",
      "Neighbors=7\n",
      "Training Acc: 0.8\n",
      "Testing Acc: 1.0\n",
      "\n",
      "Neighbors=8\n",
      "Training Acc: 0.8\n",
      "Testing Acc: 1.0\n",
      "\n",
      "Neighbors=9\n",
      "Training Acc: 0.8\n",
      "Testing Acc: 1.0\n",
      "\n"
     ]
    }
   ],
   "source": [
    "for i in range(3,10):\n",
    "    knc=KNeighborsClassifier(n_neighbors=i)\n",
    "    knc.fit(X_train,y_train)\n",
    "    pred_train=knc.predict(X_train)\n",
    "    pred_test=knc.predict(X_test)\n",
    "    train_acc=accuracy_score(y_train,pred_train)\n",
    "    test_acc=accuracy_score(y_test,pred_test)\n",
    "    print(f\"Neighbors={i}\")\n",
    "    print(\"Training Acc:\",train_acc)\n",
    "    print(\"Testing Acc:\",test_acc)\n",
    "    print()\n"
   ]
  },
  {
   "cell_type": "code",
   "execution_count": null,
   "metadata": {},
   "outputs": [],
   "source": []
  }
 ],
 "metadata": {
  "kernelspec": {
   "display_name": "Python 3",
   "language": "python",
   "name": "python3"
  },
  "language_info": {
   "codemirror_mode": {
    "name": "ipython",
    "version": 3
   },
   "file_extension": ".py",
   "mimetype": "text/x-python",
   "name": "python",
   "nbconvert_exporter": "python",
   "pygments_lexer": "ipython3",
   "version": "3.7.4"
  }
 },
 "nbformat": 4,
 "nbformat_minor": 4
}
